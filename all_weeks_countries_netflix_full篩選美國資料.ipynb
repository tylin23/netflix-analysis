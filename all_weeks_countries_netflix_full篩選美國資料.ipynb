{
  "nbformat": 4,
  "nbformat_minor": 0,
  "metadata": {
    "colab": {
      "provenance": [],
      "include_colab_link": true
    },
    "kernelspec": {
      "name": "python3",
      "display_name": "Python 3"
    },
    "language_info": {
      "name": "python"
    }
  },
  "cells": [
    {
      "cell_type": "markdown",
      "metadata": {
        "id": "view-in-github",
        "colab_type": "text"
      },
      "source": [
        "<a href=\"https://colab.research.google.com/github/tylin23/netflix-analysis/blob/master/all_weeks_countries_netflix_full%E7%AF%A9%E9%81%B8%E7%BE%8E%E5%9C%8B%E8%B3%87%E6%96%99.ipynb\" target=\"_parent\"><img src=\"https://colab.research.google.com/assets/colab-badge.svg\" alt=\"Open In Colab\"/></a>"
      ]
    },
    {
      "cell_type": "markdown",
      "source": [
        "# 初始工作\n",
        "\n",
        "\n",
        "1.   github引入資料\n",
        "2.   電腦建環境\n",
        "3.   開環境\n",
        "4.   裝套件"
      ],
      "metadata": {
        "id": "bhVI1zEZOVfW"
      }
    },
    {
      "cell_type": "code",
      "source": [
        "!git clone https://github.com/tylin23/netflix-analysis.git"
      ],
      "metadata": {
        "colab": {
          "base_uri": "https://localhost:8080/"
        },
        "id": "WrQ2oqsKOyZJ",
        "outputId": "dff90135-cf26-4405-e675-18f2507244fa"
      },
      "execution_count": 1,
      "outputs": [
        {
          "output_type": "stream",
          "name": "stdout",
          "text": [
            "Cloning into 'netflix-analysis'...\n",
            "remote: Enumerating objects: 17, done.\u001b[K\n",
            "remote: Counting objects: 100% (17/17), done.\u001b[K\n",
            "remote: Compressing objects: 100% (15/15), done.\u001b[K\n",
            "remote: Total 17 (delta 2), reused 11 (delta 1), pack-reused 0 (from 0)\u001b[K\n",
            "Receiving objects: 100% (17/17), 10.48 MiB | 4.80 MiB/s, done.\n",
            "Resolving deltas: 100% (2/2), done.\n"
          ]
        }
      ]
    },
    {
      "cell_type": "code",
      "source": [
        "!pip install openpyxl\n",
        "!pip install xlrd"
      ],
      "metadata": {
        "colab": {
          "base_uri": "https://localhost:8080/"
        },
        "id": "4RksDmvc2hWI",
        "outputId": "c3b64ec3-780d-4fbc-dc65-a38207f8bad1"
      },
      "execution_count": 2,
      "outputs": [
        {
          "output_type": "stream",
          "name": "stdout",
          "text": [
            "Requirement already satisfied: openpyxl in /usr/local/lib/python3.10/dist-packages (3.1.5)\n",
            "Requirement already satisfied: et-xmlfile in /usr/local/lib/python3.10/dist-packages (from openpyxl) (1.1.0)\n",
            "Requirement already satisfied: xlrd in /usr/local/lib/python3.10/dist-packages (2.0.1)\n"
          ]
        }
      ]
    },
    {
      "cell_type": "code",
      "source": [
        "import pandas as pd\n",
        "from google.colab import drive\n",
        "from tabulate import tabulate\n",
        "import pandas as pd\n",
        "import os"
      ],
      "metadata": {
        "id": "RVMPReTLPxap"
      },
      "execution_count": 3,
      "outputs": []
    },
    {
      "cell_type": "markdown",
      "source": [
        "# 一、讀入Netflix官網排行榜資料excel檔"
      ],
      "metadata": {
        "id": "mGoqpLI0P0Zu"
      }
    },
    {
      "cell_type": "code",
      "execution_count": 4,
      "metadata": {
        "id": "OQV2efAAyUeJ"
      },
      "outputs": [],
      "source": [
        "# drive.mount('/content/drive')\n",
        "# # 檔案位於雲端硬碟的\"data\"資料夾中\n",
        "# file_path = '/content/drive/MyDrive/F246F5A8785BFBF92BD03F145AFD531A052D168F_netflix_data.zip (Unzipped Files)/all-weeks-countries.xlsx'\n",
        "\n",
        "file_path = '/content/netflix-analysis/netflix_data/all-weeks-countries.xlsx'\n"
      ]
    },
    {
      "cell_type": "code",
      "source": [
        "df = pd.read_excel(file_path, engine='openpyxl')\n",
        "print(df.head())"
      ],
      "metadata": {
        "colab": {
          "base_uri": "https://localhost:8080/"
        },
        "id": "n3G44aWq14H-",
        "outputId": "0a13856c-40b1-46f4-de50-2cc6431286cc"
      },
      "execution_count": 5,
      "outputs": [
        {
          "output_type": "stream",
          "name": "stderr",
          "text": [
            "/usr/local/lib/python3.10/dist-packages/openpyxl/styles/stylesheet.py:237: UserWarning: Workbook contains no default style, apply openpyxl's default\n",
            "  warn(\"Workbook contains no default style, apply openpyxl's default\")\n"
          ]
        },
        {
          "output_type": "stream",
          "name": "stdout",
          "text": [
            "  country_name country_iso2        week category  weekly_rank  \\\n",
            "0    Argentina           AR  2024-08-18    Films            1   \n",
            "1    Argentina           AR  2024-08-18    Films            2   \n",
            "2    Argentina           AR  2024-08-18    Films            3   \n",
            "3    Argentina           AR  2024-08-18    Films            4   \n",
            "4    Argentina           AR  2024-08-18    Films            5   \n",
            "\n",
            "                 show_title season_title  cumulative_weeks_in_top_10  \n",
            "0  I Can't Live Without You          NaN                           1  \n",
            "1                 The Union          NaN                           1  \n",
            "2          Lolo and the Kid          NaN                           1  \n",
            "3                 Ambulance          NaN                           2  \n",
            "4                   Perdida          NaN                           2  \n"
          ]
        }
      ]
    },
    {
      "cell_type": "markdown",
      "source": [
        "# 二、篩選出美國地區資料"
      ],
      "metadata": {
        "id": "QOTpR_uEQGQM"
      }
    },
    {
      "cell_type": "code",
      "source": [
        "# 篩選出美國的資料\n",
        "df_usa = df[df['country_name'] == 'United States']\n",
        "\n",
        "# 顯示資料狀況\n",
        "print(df_usa.info())\n",
        "\n",
        "# 印出資料前五筆\n",
        "print(df_usa.head())\n",
        "\n",
        "# 顯示資料筆數\n",
        "print(f\"美國的資料筆數: {df_usa.shape[0]}\")\n"
      ],
      "metadata": {
        "colab": {
          "base_uri": "https://localhost:8080/"
        },
        "id": "Zg0MbNXQ0Yc2",
        "outputId": "c267b6ed-44f1-4f3c-8a69-0e47f87620b2"
      },
      "execution_count": 7,
      "outputs": [
        {
          "output_type": "stream",
          "name": "stdout",
          "text": [
            "<class 'pandas.core.frame.DataFrame'>\n",
            "Index: 3280 entries, 292620 to 295899\n",
            "Data columns (total 8 columns):\n",
            " #   Column                      Non-Null Count  Dtype \n",
            "---  ------                      --------------  ----- \n",
            " 0   country_name                3280 non-null   object\n",
            " 1   country_iso2                3280 non-null   object\n",
            " 2   week                        3280 non-null   object\n",
            " 3   category                    3280 non-null   object\n",
            " 4   weekly_rank                 3280 non-null   int64 \n",
            " 5   show_title                  3280 non-null   object\n",
            " 6   season_title                1558 non-null   object\n",
            " 7   cumulative_weeks_in_top_10  3280 non-null   int64 \n",
            "dtypes: int64(2), object(6)\n",
            "memory usage: 230.6+ KB\n",
            "None\n",
            "         country_name country_iso2        week category  weekly_rank  \\\n",
            "292620  United States           US  2024-08-18    Films            1   \n",
            "292621  United States           US  2024-08-18    Films            2   \n",
            "292622  United States           US  2024-08-18    Films            3   \n",
            "292623  United States           US  2024-08-18    Films            4   \n",
            "292624  United States           US  2024-08-18    Films            5   \n",
            "\n",
            "                  show_title season_title  cumulative_weeks_in_top_10  \n",
            "292620             The Union          NaN                           1  \n",
            "292621       The Emoji Movie          NaN                           2  \n",
            "292622          Night School          NaN                           1  \n",
            "292623  Trolls Band Together          NaN                           5  \n",
            "292624  Dr. Seuss' The Lorax          NaN                           6  \n",
            "美國的資料筆數: 3280\n"
          ]
        }
      ]
    },
    {
      "cell_type": "markdown",
      "source": [
        "# 三、新增「year」年份欄位"
      ],
      "metadata": {
        "id": "L6mFLXymRXAI"
      }
    },
    {
      "cell_type": "code",
      "source": [
        "# 將這個dataframe新增一欄位「year」\n",
        "df_usa['year'] = ''\n",
        "\n",
        "# 以欄位「week」去生成出新欄位「year」的資料，期望的輸入輸出格式：2024-08-18 --> 2024\n",
        "df_usa['year'] = df_usa['week'].str[0:4]\n",
        "print(df_usa.head())"
      ],
      "metadata": {
        "colab": {
          "base_uri": "https://localhost:8080/"
        },
        "id": "qiOeHU8LRezH",
        "outputId": "422830d8-39a1-44d0-9542-c010bd407790"
      },
      "execution_count": 8,
      "outputs": [
        {
          "output_type": "stream",
          "name": "stdout",
          "text": [
            "         country_name country_iso2        week category  weekly_rank  \\\n",
            "292620  United States           US  2024-08-18    Films            1   \n",
            "292621  United States           US  2024-08-18    Films            2   \n",
            "292622  United States           US  2024-08-18    Films            3   \n",
            "292623  United States           US  2024-08-18    Films            4   \n",
            "292624  United States           US  2024-08-18    Films            5   \n",
            "\n",
            "                  show_title season_title  cumulative_weeks_in_top_10  year  \n",
            "292620             The Union          NaN                           1  2024  \n",
            "292621       The Emoji Movie          NaN                           2  2024  \n",
            "292622          Night School          NaN                           1  2024  \n",
            "292623  Trolls Band Together          NaN                           5  2024  \n",
            "292624  Dr. Seuss' The Lorax          NaN                           6  2024  \n"
          ]
        },
        {
          "output_type": "stream",
          "name": "stderr",
          "text": [
            "<ipython-input-8-ae806689a38d>:2: SettingWithCopyWarning: \n",
            "A value is trying to be set on a copy of a slice from a DataFrame.\n",
            "Try using .loc[row_indexer,col_indexer] = value instead\n",
            "\n",
            "See the caveats in the documentation: https://pandas.pydata.org/pandas-docs/stable/user_guide/indexing.html#returning-a-view-versus-a-copy\n",
            "  df_usa['year'] = ''\n",
            "<ipython-input-8-ae806689a38d>:5: SettingWithCopyWarning: \n",
            "A value is trying to be set on a copy of a slice from a DataFrame.\n",
            "Try using .loc[row_indexer,col_indexer] = value instead\n",
            "\n",
            "See the caveats in the documentation: https://pandas.pydata.org/pandas-docs/stable/user_guide/indexing.html#returning-a-view-versus-a-copy\n",
            "  df_usa['year'] = df_usa['week'].str[0:4]\n"
          ]
        }
      ]
    },
    {
      "cell_type": "markdown",
      "source": [
        "# 四、篩出年份區間為2021-2023的資料作使用"
      ],
      "metadata": {
        "id": "W46zHT-ySNCn"
      }
    },
    {
      "cell_type": "code",
      "source": [
        "# 篩出年份區間為2021-2023的資料作使用\n",
        "df_usa_2021_2023 = df_usa[(df_usa['year'] >= '2021') & (df_usa['year'] <= '2023')]\n",
        "\n",
        "print(df_usa_2021_2023.head())\n",
        "print(df_usa_2021_2023.info())\n",
        "print(f\"美國地區2021-2023的資料筆數: {df_usa_2021_2023.shape[0]}\")"
      ],
      "metadata": {
        "colab": {
          "base_uri": "https://localhost:8080/"
        },
        "id": "Myd8iX_TSMcY",
        "outputId": "342a3eca-1840-43a7-b6a4-251118fb4996"
      },
      "execution_count": 9,
      "outputs": [
        {
          "output_type": "stream",
          "name": "stdout",
          "text": [
            "         country_name country_iso2        week category  weekly_rank  \\\n",
            "293280  United States           US  2023-12-31    Films            1   \n",
            "293281  United States           US  2023-12-31    Films            2   \n",
            "293282  United States           US  2023-12-31    Films            3   \n",
            "293283  United States           US  2023-12-31    Films            4   \n",
            "293284  United States           US  2023-12-31    Films            5   \n",
            "\n",
            "                                    show_title season_title  \\\n",
            "293280  Rebel Moon — Part One: A Child of Fire          NaN   \n",
            "293281             The Super Mario Bros. Movie          NaN   \n",
            "293282                   Sniper: Ultimate Kill          NaN   \n",
            "293283                  Sniper: Assassin's End          NaN   \n",
            "293284                       Meg 2: The Trench          NaN   \n",
            "\n",
            "        cumulative_weeks_in_top_10  year  \n",
            "293280                           2  2023  \n",
            "293281                           5  2023  \n",
            "293282                           1  2023  \n",
            "293283                           1  2023  \n",
            "293284                           1  2023  \n",
            "<class 'pandas.core.frame.DataFrame'>\n",
            "Index: 2620 entries, 293280 to 295899\n",
            "Data columns (total 9 columns):\n",
            " #   Column                      Non-Null Count  Dtype \n",
            "---  ------                      --------------  ----- \n",
            " 0   country_name                2620 non-null   object\n",
            " 1   country_iso2                2620 non-null   object\n",
            " 2   week                        2620 non-null   object\n",
            " 3   category                    2620 non-null   object\n",
            " 4   weekly_rank                 2620 non-null   int64 \n",
            " 5   show_title                  2620 non-null   object\n",
            " 6   season_title                1263 non-null   object\n",
            " 7   cumulative_weeks_in_top_10  2620 non-null   int64 \n",
            " 8   year                        2620 non-null   object\n",
            "dtypes: int64(2), object(7)\n",
            "memory usage: 204.7+ KB\n",
            "None\n",
            "美國地區2021-2023的資料筆數: 2620\n"
          ]
        }
      ]
    },
    {
      "cell_type": "markdown",
      "source": [
        "# 五、刪除「show_title」為空的缺失值"
      ],
      "metadata": {
        "id": "CdZkXiMiU4Rf"
      }
    },
    {
      "cell_type": "code",
      "source": [
        "# 刪除 'show_title' 欄位為空的資料列\n",
        "df_usa_2021_2023_cleaned = df_usa_2021_2023.dropna(subset=['show_title'])\n",
        "\n",
        "# 檢查刪除後的資料\n",
        "print(df_usa_2021_2023_cleaned.info())\n",
        "print(df_usa_2021_2023_cleaned.head())\n",
        "\n",
        "# 顯示刪缺失值後的資料筆數\n",
        "print(f\"刪缺失值後的資料筆數: {df_usa_2021_2023_cleaned.shape[0]}\")"
      ],
      "metadata": {
        "colab": {
          "base_uri": "https://localhost:8080/"
        },
        "id": "ZWx00majSI-t",
        "outputId": "29f03a14-6466-4105-9c69-ab6b175bcc59"
      },
      "execution_count": 10,
      "outputs": [
        {
          "output_type": "stream",
          "name": "stdout",
          "text": [
            "<class 'pandas.core.frame.DataFrame'>\n",
            "Index: 2620 entries, 293280 to 295899\n",
            "Data columns (total 9 columns):\n",
            " #   Column                      Non-Null Count  Dtype \n",
            "---  ------                      --------------  ----- \n",
            " 0   country_name                2620 non-null   object\n",
            " 1   country_iso2                2620 non-null   object\n",
            " 2   week                        2620 non-null   object\n",
            " 3   category                    2620 non-null   object\n",
            " 4   weekly_rank                 2620 non-null   int64 \n",
            " 5   show_title                  2620 non-null   object\n",
            " 6   season_title                1263 non-null   object\n",
            " 7   cumulative_weeks_in_top_10  2620 non-null   int64 \n",
            " 8   year                        2620 non-null   object\n",
            "dtypes: int64(2), object(7)\n",
            "memory usage: 204.7+ KB\n",
            "None\n",
            "         country_name country_iso2        week category  weekly_rank  \\\n",
            "293280  United States           US  2023-12-31    Films            1   \n",
            "293281  United States           US  2023-12-31    Films            2   \n",
            "293282  United States           US  2023-12-31    Films            3   \n",
            "293283  United States           US  2023-12-31    Films            4   \n",
            "293284  United States           US  2023-12-31    Films            5   \n",
            "\n",
            "                                    show_title season_title  \\\n",
            "293280  Rebel Moon — Part One: A Child of Fire          NaN   \n",
            "293281             The Super Mario Bros. Movie          NaN   \n",
            "293282                   Sniper: Ultimate Kill          NaN   \n",
            "293283                  Sniper: Assassin's End          NaN   \n",
            "293284                       Meg 2: The Trench          NaN   \n",
            "\n",
            "        cumulative_weeks_in_top_10  year  \n",
            "293280                           2  2023  \n",
            "293281                           5  2023  \n",
            "293282                           1  2023  \n",
            "293283                           1  2023  \n",
            "293284                           1  2023  \n",
            "刪缺失值後的資料筆數: 2620\n"
          ]
        }
      ]
    },
    {
      "cell_type": "markdown",
      "source": [
        "# 六、把電影的最後最新一筆留下\n",
        "因為是每週排行資料集，單一電影可能會有多次入榜紀錄的情況"
      ],
      "metadata": {
        "id": "7YhwGiqkXpEz"
      }
    },
    {
      "cell_type": "code",
      "source": [
        "# 確保 'week' 欄位為日期格式\n",
        "df_usa_2021_2023_cleaned['week'] = pd.to_datetime(df_usa_2021_2023_cleaned['week'])\n",
        "\n",
        "# 對每部電影(show_title)分組，並保留每組最新的 'week' 資料\n",
        "df_latest_movie = df_usa_2021_2023_cleaned.loc[df_usa_2021_2023_cleaned.groupby('show_title')['week'].idxmax()]\n",
        "\n",
        "# 檢查結果\n",
        "print(df_latest_movie.head())\n",
        "print(f\"處理後的資料筆數: {df_latest_movie.shape[0]}\")\n"
      ],
      "metadata": {
        "colab": {
          "base_uri": "https://localhost:8080/"
        },
        "id": "SuDaAuEjSI2U",
        "outputId": "6da2b65d-ad46-4a23-b5ce-bb153fb9adc4"
      },
      "execution_count": 11,
      "outputs": [
        {
          "output_type": "stream",
          "name": "stdout",
          "text": [
            "         country_name country_iso2       week category  weekly_rank  \\\n",
            "294906  United States           US 2022-06-12    Films            7   \n",
            "294767  United States           US 2022-07-31    Films            8   \n",
            "293425  United States           US 2023-11-12    Films            6   \n",
            "295448  United States           US 2021-12-05    Films            9   \n",
            "294549  United States           US 2022-10-16    Films           10   \n",
            "\n",
            "                             show_title season_title  \\\n",
            "294906                      10,000 B.C.          NaN   \n",
            "294767                        12 Strong          NaN   \n",
            "293425                   13 Going on 30          NaN   \n",
            "295448  14 Peaks: Nothing Is Impossible          NaN   \n",
            "294549                         17 Again          NaN   \n",
            "\n",
            "        cumulative_weeks_in_top_10  year  \n",
            "294906                           1  2022  \n",
            "294767                           3  2022  \n",
            "293425                           1  2023  \n",
            "295448                           1  2021  \n",
            "294549                           1  2022  \n",
            "處理後的資料筆數: 977\n"
          ]
        }
      ]
    },
    {
      "cell_type": "markdown",
      "source": [
        "# 七、為最新的資料集重新分配ID＆檢查筆數"
      ],
      "metadata": {
        "id": "-4s0o9qWaU_f"
      }
    },
    {
      "cell_type": "code",
      "source": [
        "# 先根據 'year' 欄位由遠到近排序\n",
        "df_latest_movie = df_latest_movie.sort_values(by='week', ascending=True).reset_index(drop=True)\n",
        "\n",
        "# 生成四位數的唯一ID，並命名格式為 'r_0001', 'r_0002', ...\n",
        "df_latest_movie['show_newid'] = ['r_{:04d}'.format(i) for i in range(1, len(df_latest_movie) + 1)]\n",
        "\n",
        "# 顯示新增欄位後的 DataFrame\n",
        "print(df_latest_movie.head())\n",
        "\n",
        "# 顯示資料筆數和欄位資訊\n",
        "print(df_latest_movie.info())"
      ],
      "metadata": {
        "colab": {
          "base_uri": "https://localhost:8080/"
        },
        "id": "QEEc6Z9jSIqc",
        "outputId": "d4f3f79f-1e7f-4b67-d340-fe79d7da40f7"
      },
      "execution_count": 12,
      "outputs": [
        {
          "output_type": "stream",
          "name": "stdout",
          "text": [
            "    country_name country_iso2       week category  weekly_rank  \\\n",
            "0  United States           US 2021-07-04    Films           10   \n",
            "1  United States           US 2021-07-04    Films            9   \n",
            "2  United States           US 2021-07-04    Films            4   \n",
            "3  United States           US 2021-07-04       TV            5   \n",
            "4  United States           US 2021-07-04       TV            7   \n",
            "\n",
            "                       show_title                               season_title  \\\n",
            "0      Terminator 2: Judgment Day                                        NaN   \n",
            "1  The Mitchells vs. The Machines                                        NaN   \n",
            "2                     Wish Dragon                                        NaN   \n",
            "3           The Seven Deadly Sins  The Seven Deadly Sins: Dragon's Judgement   \n",
            "4          Newly Rich, Newly Poor           Newly Rich, Newly Poor: Season 1   \n",
            "\n",
            "   cumulative_weeks_in_top_10  year show_newid  \n",
            "0                           1  2021     r_0001  \n",
            "1                           1  2021     r_0002  \n",
            "2                           1  2021     r_0003  \n",
            "3                           1  2021     r_0004  \n",
            "4                           1  2021     r_0005  \n",
            "<class 'pandas.core.frame.DataFrame'>\n",
            "RangeIndex: 977 entries, 0 to 976\n",
            "Data columns (total 10 columns):\n",
            " #   Column                      Non-Null Count  Dtype         \n",
            "---  ------                      --------------  -----         \n",
            " 0   country_name                977 non-null    object        \n",
            " 1   country_iso2                977 non-null    object        \n",
            " 2   week                        977 non-null    datetime64[ns]\n",
            " 3   category                    977 non-null    object        \n",
            " 4   weekly_rank                 977 non-null    int64         \n",
            " 5   show_title                  977 non-null    object        \n",
            " 6   season_title                320 non-null    object        \n",
            " 7   cumulative_weeks_in_top_10  977 non-null    int64         \n",
            " 8   year                        977 non-null    object        \n",
            " 9   show_newid                  977 non-null    object        \n",
            "dtypes: datetime64[ns](1), int64(2), object(7)\n",
            "memory usage: 76.5+ KB\n",
            "None\n"
          ]
        }
      ]
    },
    {
      "cell_type": "markdown",
      "source": [
        "# 八、用另一電影資料集以其「show_title」作mapping，納入新的「synopsis」欄位"
      ],
      "metadata": {
        "id": "FNcdiRB4Bp5o"
      }
    },
    {
      "cell_type": "code",
      "source": [
        "#讀入另一整理好的電影資料集\n",
        "movie_data_cleaned = pd.read_csv('/content/netflix-analysis/netflix_data_cleaned/movie_cleaned_data.csv')"
      ],
      "metadata": {
        "id": "UWJtk6OAMc17"
      },
      "execution_count": 13,
      "outputs": []
    },
    {
      "cell_type": "code",
      "source": [
        "print(movie_data_cleaned.info())\n",
        "print(movie_data_cleaned.head())"
      ],
      "metadata": {
        "colab": {
          "base_uri": "https://localhost:8080/"
        },
        "id": "BHu8OjuZM9ud",
        "outputId": "df3fba9b-c9bc-4f3e-b760-b135dcf27820"
      },
      "execution_count": 14,
      "outputs": [
        {
          "output_type": "stream",
          "name": "stdout",
          "text": [
            "<class 'pandas.core.frame.DataFrame'>\n",
            "RangeIndex: 5949 entries, 0 to 5948\n",
            "Data columns (total 12 columns):\n",
            " #   Column      Non-Null Count  Dtype \n",
            "---  ------      --------------  ----- \n",
            " 0   show_id     5949 non-null   object\n",
            " 1   type        5949 non-null   object\n",
            " 2   show_title  5949 non-null   object\n",
            " 3   director    5949 non-null   object\n",
            " 4   cast        5949 non-null   object\n",
            " 5   year        5949 non-null   int64 \n",
            " 6   rating      5949 non-null   object\n",
            " 7   duration    5949 non-null   object\n",
            " 8   genres      5949 non-null   object\n",
            " 9   country     5949 non-null   object\n",
            " 10  synopsis    5949 non-null   object\n",
            " 11  show_newid  5949 non-null   object\n",
            "dtypes: int64(1), object(11)\n",
            "memory usage: 557.8+ KB\n",
            "None\n",
            "  show_id   type               show_title  \\\n",
            "0   s8206  Movie     The Battle of Midway   \n",
            "1   s8641  Movie         Tunisian Victory   \n",
            "2   s7220  Movie  Know Your Enemy - Japan   \n",
            "3   s7295  Movie       Let There Be Light   \n",
            "4   s8588  Movie              Thunderbolt   \n",
            "\n",
            "                                            director  \\\n",
            "0                                          John Ford   \n",
            "1  Frank Capra, John Huston, Hugh Stewart, Roy Bo...   \n",
            "2                           Frank Capra, Joris Ivens   \n",
            "3                                        John Huston   \n",
            "4                        William Wyler, John Sturges   \n",
            "\n",
            "                           cast  year rating duration  \\\n",
            "0     Henry Fonda, Jane Darwell  1942  TV-14   18 min   \n",
            "1              Burgess Meredith  1944  TV-14   76 min   \n",
            "2   Walter Huston, Dana Andrews  1945  TV-14   63 min   \n",
            "3                 Walter Huston  1946  TV-PG   58 min   \n",
            "4  James Stewart, Lloyd Bridges  1947  TV-PG   42 min   \n",
            "\n",
            "                          genres                        country  \\\n",
            "0  Classic Movies, Documentaries                  United States   \n",
            "1  Classic Movies, Documentaries  United States, United Kingdom   \n",
            "2  Classic Movies, Documentaries                  United States   \n",
            "3  Classic Movies, Documentaries                  United States   \n",
            "4  Classic Movies, Documentaries                  United States   \n",
            "\n",
            "                                            synopsis show_newid  \n",
            "0  Director John Ford captures combat footage of ...     s_0001  \n",
            "1  British and American troops join forces to lib...     s_0002  \n",
            "2  Though culturally insensitive by modern standa...     s_0003  \n",
            "3  Some returning combat veterans suffer scars th...     s_0004  \n",
            "4  A P-47 Thunderbolt squadron is shown in prepar...     s_0005  \n"
          ]
        }
      ]
    },
    {
      "cell_type": "code",
      "source": [
        "# 確保 'synopsis' 欄位存在於 movie_data_cleaned\n",
        "if 'synopsis' not in movie_data_cleaned.columns:\n",
        "    print(\"Error: 'synopsis' 欄位不存在於另一個電影資料集中\")\n",
        "else:\n",
        "    # 將 df_latest_movie 與 movie_data_cleaned 根據 'show_title' 欄位進行左連接 (映射 'synopsis')\n",
        "    df_latest_movie = df_latest_movie.merge(movie_data_cleaned[['show_title', 'synopsis']],\n",
        "                                            on='show_title', how='left')\n",
        "\n",
        "    # 檢查合併後的 DataFrame\n",
        "    print(df_latest_movie.head())\n",
        "    print(df_latest_movie.info())\n"
      ],
      "metadata": {
        "colab": {
          "base_uri": "https://localhost:8080/"
        },
        "id": "ZtFGmvnwaWPj",
        "outputId": "b9d1b772-146e-4567-d516-62f7e06b417c"
      },
      "execution_count": 15,
      "outputs": [
        {
          "output_type": "stream",
          "name": "stdout",
          "text": [
            "    country_name country_iso2       week category  weekly_rank  \\\n",
            "0  United States           US 2021-07-04    Films           10   \n",
            "1  United States           US 2021-07-04    Films            9   \n",
            "2  United States           US 2021-07-04    Films            4   \n",
            "3  United States           US 2021-07-04       TV            5   \n",
            "4  United States           US 2021-07-04       TV            7   \n",
            "\n",
            "                       show_title                               season_title  \\\n",
            "0      Terminator 2: Judgment Day                                        NaN   \n",
            "1  The Mitchells vs. The Machines                                        NaN   \n",
            "2                     Wish Dragon                                        NaN   \n",
            "3           The Seven Deadly Sins  The Seven Deadly Sins: Dragon's Judgement   \n",
            "4          Newly Rich, Newly Poor           Newly Rich, Newly Poor: Season 1   \n",
            "\n",
            "   cumulative_weeks_in_top_10  year show_newid  \\\n",
            "0                           1  2021     r_0001   \n",
            "1                           1  2021     r_0002   \n",
            "2                           1  2021     r_0003   \n",
            "3                           1  2021     r_0004   \n",
            "4                           1  2021     r_0005   \n",
            "\n",
            "                                            synopsis  \n",
            "0                                                NaN  \n",
            "1                                                NaN  \n",
            "2  Determined teen Din is longing to reconnect wi...  \n",
            "3                                                NaN  \n",
            "4                                                NaN  \n",
            "<class 'pandas.core.frame.DataFrame'>\n",
            "RangeIndex: 977 entries, 0 to 976\n",
            "Data columns (total 11 columns):\n",
            " #   Column                      Non-Null Count  Dtype         \n",
            "---  ------                      --------------  -----         \n",
            " 0   country_name                977 non-null    object        \n",
            " 1   country_iso2                977 non-null    object        \n",
            " 2   week                        977 non-null    datetime64[ns]\n",
            " 3   category                    977 non-null    object        \n",
            " 4   weekly_rank                 977 non-null    int64         \n",
            " 5   show_title                  977 non-null    object        \n",
            " 6   season_title                320 non-null    object        \n",
            " 7   cumulative_weeks_in_top_10  977 non-null    int64         \n",
            " 8   year                        977 non-null    object        \n",
            " 9   show_newid                  977 non-null    object        \n",
            " 10  synopsis                    202 non-null    object        \n",
            "dtypes: datetime64[ns](1), int64(2), object(8)\n",
            "memory usage: 84.1+ KB\n",
            "None\n"
          ]
        }
      ]
    },
    {
      "cell_type": "markdown",
      "source": [
        "# 九、存成csv作未來使用\n"
      ],
      "metadata": {
        "id": "Bi5YJNRoNePO"
      }
    },
    {
      "cell_type": "markdown",
      "source": [
        "## 9-1 保留電影描述的空值，直接存（排行潛力預測功能不採納使用）"
      ],
      "metadata": {
        "id": "ZbBMdSRlPziP"
      }
    },
    {
      "cell_type": "code",
      "source": [
        "# 9-1 保留電影描述的空值，直接存（排行潛力預測功能不採納使用）\n",
        "df_latest_movie.to_csv('df_leaderboard_add_synopsis.csv', index=False)  # 保存為csv，不保存索引\n",
        "\n",
        "# 已經將此csv存上github備存"
      ],
      "metadata": {
        "id": "_rjIIs0eaWGn"
      },
      "execution_count": 17,
      "outputs": []
    },
    {
      "cell_type": "markdown",
      "source": [
        "## 9-2 刪除沒有對應到電影描述的紀錄（排行潛力預測功能採納使用）"
      ],
      "metadata": {
        "id": "wX7VBV4wP3P4"
      }
    },
    {
      "cell_type": "code",
      "source": [
        "# 9-2  刪除沒有對應到電影描述的紀錄（排行潛力預測功能採納使用）\n",
        "df_leaderboard_without_nan = df_latest_movie.dropna(subset=['synopsis'])\n",
        "df_leaderboard_without_nan.to_csv('df_leaderboard_without_nan.csv', index=False)  # 保存為csv，不保存索引\n",
        "\n",
        "# 已經將此csv存上github備存"
      ],
      "metadata": {
        "id": "wL3vBg2raV7s"
      },
      "execution_count": 18,
      "outputs": []
    }
  ]
}